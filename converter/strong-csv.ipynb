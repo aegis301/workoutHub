{
 "cells": [
  {
   "cell_type": "markdown",
   "metadata": {},
   "source": [
    "# Strong Data Converter"
   ]
  },
  {
   "cell_type": "markdown",
   "metadata": {},
   "source": [
    "## Setup and Import"
   ]
  },
  {
   "cell_type": "code",
   "execution_count": 58,
   "metadata": {},
   "outputs": [],
   "source": [
    "import pandas as pd\n",
    "import json"
   ]
  },
  {
   "cell_type": "code",
   "execution_count": 59,
   "metadata": {},
   "outputs": [],
   "source": [
    "data = pd.read_csv('../data/strong.csv')\n",
    "# import exercise json\n",
    "exercises = json.load(open('../data/exercises.json'))\n",
    "muscle_groups = json.load(open('../data/muscle-groups.json'))"
   ]
  },
  {
   "cell_type": "markdown",
   "metadata": {},
   "source": [
    "## Data Cleaning"
   ]
  },
  {
   "cell_type": "code",
   "execution_count": 60,
   "metadata": {},
   "outputs": [],
   "source": [
    "def strip_appendix(s):\n",
    "    \"\"\"Strong exercise names contain an appendix with the equipment. This function splits the exercise from the appendix. E.g. 'Bench Press (Barbell)' -> 'Bench Press' and 'Barbell'\"\"\"\n",
    "    return s.split(' (')[0], s.split(' (')[-1][:-1]\n",
    "\n",
    "\n",
    "data['exercise'], data['equipment'] = zip(\n",
    "    *data['Exercise Name'].map(strip_appendix))"
   ]
  },
  {
   "cell_type": "code",
   "execution_count": 61,
   "metadata": {},
   "outputs": [],
   "source": [
    "data.drop(columns=[\"Workout Name\", \"Duration\"], inplace=True)"
   ]
  },
  {
   "cell_type": "markdown",
   "metadata": {},
   "source": [
    "## Data Augmentation"
   ]
  },
  {
   "cell_type": "code",
   "execution_count": 62,
   "metadata": {},
   "outputs": [],
   "source": [
    "def augment_row(row, exercises):\n",
    "    \"\"\"Augment a row with the exercise data from the exercises.json file\"\"\"\n",
    "    exercise = exercises[row['exercise']]\n",
    "    row['primary_muscle_group'] = exercise['primaryMuscleGroup']\n",
    "    row['secondary_muscle_group'] = exercise['secondaryMuscleGroups']\n",
    "    return row\n",
    "\n",
    "\n",
    "data = data.apply(augment_row, axis=1, exercises=exercises)"
   ]
  },
  {
   "cell_type": "code",
   "execution_count": 63,
   "metadata": {},
   "outputs": [],
   "source": [
    "data.to_csv('../data/strong_augmented.csv', index=False)"
   ]
  }
 ],
 "metadata": {
  "kernelspec": {
   "display_name": ".venv",
   "language": "python",
   "name": "python3"
  },
  "language_info": {
   "codemirror_mode": {
    "name": "ipython",
    "version": 3
   },
   "file_extension": ".py",
   "mimetype": "text/x-python",
   "name": "python",
   "nbconvert_exporter": "python",
   "pygments_lexer": "ipython3",
   "version": "3.12.5"
  }
 },
 "nbformat": 4,
 "nbformat_minor": 2
}
