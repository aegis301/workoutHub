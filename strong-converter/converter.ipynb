{
 "cells": [
  {
   "cell_type": "markdown",
   "metadata": {},
   "source": [
    "# Strong Data Converter"
   ]
  },
  {
   "cell_type": "markdown",
   "metadata": {},
   "source": [
    "## Setup and Import"
   ]
  },
  {
   "cell_type": "code",
   "execution_count": 23,
   "metadata": {},
   "outputs": [],
   "source": [
    "import pandas as pd"
   ]
  },
  {
   "cell_type": "code",
   "execution_count": 24,
   "metadata": {},
   "outputs": [],
   "source": [
    "data = pd.read_csv('data/strong.csv')"
   ]
  },
  {
   "cell_type": "markdown",
   "metadata": {},
   "source": [
    "## Data Cleaning"
   ]
  },
  {
   "cell_type": "code",
   "execution_count": 25,
   "metadata": {},
   "outputs": [],
   "source": [
    "def strip_appendix(s):\n",
    "    \"\"\"Strong exercise names contain an appendix with the equipment. This function splits the exercise from the appendix. E.g. 'Bench Press (Barbell)' -> 'Bench Press' and 'Barbell'\"\"\"\n",
    "    return s.split(' (')[0], s.split(' (')[-1][:-1]\n",
    "\n",
    "\n",
    "data['exercise'], data['equipment'] = zip(\n",
    "    *data['Exercise Name'].map(strip_appendix))"
   ]
  },
  {
   "cell_type": "code",
   "execution_count": 26,
   "metadata": {},
   "outputs": [],
   "source": [
    "data.drop(columns=[\"Workout Name\", \"Duration\"], inplace=True)"
   ]
  },
  {
   "cell_type": "markdown",
   "metadata": {},
   "source": [
    "## Data Augmentation"
   ]
  },
  {
   "cell_type": "code",
   "execution_count": 22,
   "metadata": {},
   "outputs": [],
   "source": []
  },
  {
   "cell_type": "code",
   "execution_count": 27,
   "metadata": {},
   "outputs": [
    {
     "data": {
      "text/plain": [
       "array(['Incline Bench Press (Barbell)', 'Bent Over Row (Barbell)',\n",
       "       'Lunge (Barbell)', 'Bicep Curl (Barbell)', 'Tennis', 'Pull Up',\n",
       "       'Bench Press (Barbell)', 'Deadlift (Barbell)',\n",
       "       'Lateral Raise (Dumbbell)', 'Bicep Curl (Dumbbell)',\n",
       "       'Rowing (Machine)', 'Squat (Barbell)', 'Push Up',\n",
       "       'Triceps Extension (Dumbbell)', 'Bulgarian Split Squat',\n",
       "       'Seated Overhead Press (Barbell)', 'Russian Twist',\n",
       "       'Flat Leg Raise', 'Reverse Fly (Dumbbell)', 'Chest Dip',\n",
       "       'Inverted Row (Bodyweight)', 'Front Raise (Plate)',\n",
       "       'Standing Calf Raise (Barbell)', 'Running',\n",
       "       'Upright Row (Barbell)', 'Bench Dip', 'Yoga',\n",
       "       'Incline Bench Press (Dumbbell)', 'Overhead Press (Dumbbell)',\n",
       "       'Upright Row (Dumbbell)', 'Bent Over Row (Dumbbell)',\n",
       "       'Chest Fly (Dumbbell)', 'Lunge (Dumbbell)',\n",
       "       'Single Leg Deadlift (Dumbbell)',\n",
       "       'Single Leg Standing Calf Raises', 'Triceps Extension (Barbell)',\n",
       "       'Pullover (Dumbbell)', 'Overhead Press (Barbell)',\n",
       "       'Lat Pulldown (Cable)', 'Seated Row (Machine)',\n",
       "       'Bicep Curl (Machine)', 'Hip Abductor (Machine)',\n",
       "       'Lying Leg Curl (Machine)', 'Leg Extension (Machine)',\n",
       "       'Back Extension', 'Seated Calf Raise (Plate Loaded)',\n",
       "       'Bench Press (Dumbbell)', 'Chest Fly', 'Shoulder Press (Machine)',\n",
       "       'Triceps Pushdown (Cable - Straight Bar)', 'Bicep Curl (Cable)',\n",
       "       'Reverse Fly (Machine)', 'Lateral Raise (Cable)',\n",
       "       'Chest Press (Machine)', 'Crunch (Machine)', 'Decline Crunch',\n",
       "       'Hip Abductor (Cable)', 'Cable Crunch', 'Leg Raise (Suspended)',\n",
       "       'Hip Adductor (Machine)', 'Seated Leg Press (Machine)',\n",
       "       'Chest Dip (Assisted)', 'Chest Press (Cable)',\n",
       "       'Seated Wide-Grip Row (Cable)',\n",
       "       'Lat Pulldown - Close Grip (Cable)', 'Pull Up (Assisted)',\n",
       "       'Shoulder External Rotation (Cable)', 'Chest Fly (Cable)',\n",
       "       'Seated Row (Cable)', 'Reverse Fly (Cable)', 'Side Bend (Cable)',\n",
       "       'Lat Push Down (Cable)', 'Bench Press (Smith Machine)',\n",
       "       'Overhead Press (Smith Machine)', 'Front Raise (Cable)',\n",
       "       'Jackknife Sit Up', 'Triceps Press (Machine)',\n",
       "       'Triceps Extension (Cable)', 'Calf Press on Seated Leg Press',\n",
       "       'Overhead Press (Cable)', 'Triceps Extension (Machine)',\n",
       "       'Good Morning (Barbell)', 'Trap Bar Deadlift', 'Face Pull (Cable)',\n",
       "       'Seated Overhead Press (Dumbbell)',\n",
       "       'Incline Bench Press (Smith Machine)', 'Front Squat (Barbell)',\n",
       "       'Sit Up', 'Lat Pulldown (Machine)', 'Iso-Lateral Row (Machine)',\n",
       "       'Leg Press', 'Stiff Deadlift (Cable)', 'Glute Bridge',\n",
       "       'Hip Thrust (Barbell)', 'Pull Over (Cable)'], dtype=object)"
      ]
     },
     "execution_count": 27,
     "metadata": {},
     "output_type": "execute_result"
    }
   ],
   "source": [
    "data[\"Exercise Name\"].unique()"
   ]
  }
 ],
 "metadata": {
  "kernelspec": {
   "display_name": ".venv",
   "language": "python",
   "name": "python3"
  },
  "language_info": {
   "codemirror_mode": {
    "name": "ipython",
    "version": 3
   },
   "file_extension": ".py",
   "mimetype": "text/x-python",
   "name": "python",
   "nbconvert_exporter": "python",
   "pygments_lexer": "ipython3",
   "version": "3.12.1"
  }
 },
 "nbformat": 4,
 "nbformat_minor": 2
}
